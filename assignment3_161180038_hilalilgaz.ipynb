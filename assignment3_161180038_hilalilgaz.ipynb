{
 "cells": [
  {
   "cell_type": "code",
   "execution_count": 1,
   "metadata": {},
   "outputs": [],
   "source": [
    "import sys\n",
    "import cv2\n",
    "import numpy as np"
   ]
  },
  {
   "cell_type": "code",
   "execution_count": 41,
   "metadata": {},
   "outputs": [],
   "source": [
    "left_img = cv2.imread(\"left.jpeg\")\n",
    "right_img = cv2.imread(\"right.jpeg\")\n",
    "\n",
    "\n",
    "cv2.imshow(\"left_image\",left_img)\n",
    "cv2.imshow(\"right_image\",right_img)\n",
    "cv2.waitKey(0)\n",
    "cv2.destroyAllWindows()"
   ]
  },
  {
   "cell_type": "code",
   "execution_count": 57,
   "metadata": {},
   "outputs": [],
   "source": [
    "orb = cv2.ORB_create(nfeatures=1000)\n",
    "\n",
    "kpleft, dcleft = orb.detectAndCompute(left_img, None)\n",
    "kpright, dcright = orb.detectAndCompute(right_img, None)"
   ]
  },
  {
   "cell_type": "code",
   "execution_count": 58,
   "metadata": {},
   "outputs": [],
   "source": [
    "cv2.imshow(\"Left keypoints\",cv2.drawKeypoints(left_img, kpleft, None, (255, 0, 0)))\n",
    "cv2.waitKey(0)\n",
    "cv2.destroyAllWindows()\n",
    "           \n",
    "\n",
    "    \n",
    "           "
   ]
  },
  {
   "cell_type": "code",
   "execution_count": 59,
   "metadata": {},
   "outputs": [],
   "source": [
    "cv2.imshow(\"right keypoints\",cv2.drawKeypoints(right_img, kpright, None, (255, 0, 0)))\n",
    "cv2.waitKey(0)\n",
    "cv2.destroyAllWindows()"
   ]
  },
  {
   "cell_type": "code",
   "execution_count": 71,
   "metadata": {},
   "outputs": [],
   "source": [
    "brutef = cv2.BFMatcher_create(cv2.NORM_HAMMING)\n",
    "\n",
    "\n",
    "matches = brutef.knnMatch(dcleft, dcright,k=2)"
   ]
  },
  {
   "cell_type": "code",
   "execution_count": 74,
   "metadata": {},
   "outputs": [
    {
     "name": "stdout",
     "output_type": "stream",
     "text": [
      "Descriptor for the first left keypoint: \n",
      "[139  18 116 247  99  61 184  88 181  90 149 183 253  93 191 111 255 145\n",
      " 223  39 164  71 110 194  87 219 114 143  54 252  37 247]\n"
     ]
    }
   ],
   "source": [
    "print(\"Descriptor for the first left keypoint: \")\n",
    "print(dcleft[0])"
   ]
  },
  {
   "cell_type": "code",
   "execution_count": 75,
   "metadata": {},
   "outputs": [
    {
     "name": "stdout",
     "output_type": "stream",
     "text": [
      "Descriptor for the first right keypoint: \n",
      "[  2  80   8 155 109 137 177  76  30  29  84 163 172 223 107  73 202  25\n",
      " 163 193  66  22  66 241  68  17 250 171  20  28  29 155]\n"
     ]
    }
   ],
   "source": [
    "print(\"Descriptor for the first right keypoint: \")\n",
    "print(dcright[0])"
   ]
  },
  {
   "cell_type": "code",
   "execution_count": 76,
   "metadata": {},
   "outputs": [],
   "source": [
    "def draw_matches(left_img, kpleft, right_img, kpright, all_matches):\n",
    "    left_row, left_col = left_img.shape[:2]\n",
    "    right_row, right_col = right_img.shape[:2]\n",
    "\n",
    "  \n",
    "    match_img = np.zeros((max([left_row,  right_row]), left_col+right_col, 3), dtype='uint8')\n",
    "    match_img[:left_row, :left_col, :] = np.dstack([left_img, left_img, left_img])\n",
    "    match_img[: right_row, left_col:left_col+right_col, :] = np.dstack([right_img, right_img, right_img])\n",
    "\n",
    "  \n",
    "    for m in all_matches:\n",
    "        left_img_index = m.queryIdx\n",
    "        right_img_index = m.trainIdx\n",
    "        (xleft, yleft) = kpleft[left_img_index].pt\n",
    "        (xright, yright) = kpright[right_img_index].pt\n",
    "\n",
    "    \n",
    "        cv2.circle(match_img, (int(xleft),int(yleft)), 4, (0, 255, 255), 1)\n",
    "        cv2.circle(match_img, (int(xright)+left_col,int(yright)), 4, (0, 255, 255), 1)\n",
    "\n",
    "    \n",
    "        cv2.line(match_img, (int(xleft),int(yleft)), (int(xright)+left_col,int(yright)), (0, 255, 255), 1)\n",
    "    \n",
    "    return match_img"
   ]
  },
  {
   "cell_type": "code",
   "execution_count": 77,
   "metadata": {},
   "outputs": [],
   "source": [
    "all_matches = []\n",
    "for m, n in matches:\n",
    "    all_matches.append(m)\n",
    "\n",
    "match_img = draw_matches(left_img_gray, kpleft, right_img_gray, kpright, all_matches[:30])\n",
    "cv2.imshow(\"matches\",match_img)\n",
    "cv2.waitKey(0)\n",
    "cv2.destroyAllWindows()"
   ]
  },
  {
   "cell_type": "code",
   "execution_count": 78,
   "metadata": {},
   "outputs": [],
   "source": [
    "good_matches = []\n",
    "threshold=0.6\n",
    "for m, n in matches:\n",
    "    if m.distance < threshold * n.distance:\n",
    "        good_matches.append(m)"
   ]
  },
  {
   "cell_type": "code",
   "execution_count": 79,
   "metadata": {},
   "outputs": [],
   "source": [
    "cv2.imshow(\"key\",cv2.drawKeypoints(left_img, [kpleft[m.queryIdx] for m in good_matches], None, (255, 0, 255)))\n",
    "cv2.waitKey(0)\n",
    "cv2.destroyAllWindows()"
   ]
  },
  {
   "cell_type": "code",
   "execution_count": 80,
   "metadata": {},
   "outputs": [],
   "source": [
    "cv2.imshow(\"key\",cv2.drawKeypoints(right_img, [kpright[m.trainIdx] for m in good_matches], None, (255, 0, 255)))\n",
    "cv2.waitKey(0)\n",
    "cv2.destroyAllWindows()"
   ]
  },
  {
   "cell_type": "code",
   "execution_count": 81,
   "metadata": {},
   "outputs": [],
   "source": [
    "match_img = draw_matches(left_img_gray, kpleft, right_img_gray, kpright, good_matches)\n",
    "cv2.imshow(\"good matches\",match_img)\n",
    "cv2.waitKey(0)\n",
    "cv2.destroyAllWindows()"
   ]
  },
  {
   "cell_type": "code",
   "execution_count": 82,
   "metadata": {},
   "outputs": [],
   "source": [
    "def matchimages(left_img, right_img, homography):\n",
    "\n",
    "    left_row, left_col = left_img.shape[:2]\n",
    "    right_row, right_col = right_img.shape[:2]\n",
    "    default=0\n",
    "    size=-1,1,2\n",
    "\n",
    "    points1 = np.float32([[default,default], [default, left_row],[left_col, left_row], [left_col, default]]).reshape(size)\n",
    "    temp_points = np.float32([[default,default], [default,right_row], [right_col,right_row], [right_col,default]]).reshape(size)\n",
    "\n",
    " \n",
    " \n",
    "    points2 = cv2.perspectiveTransform(temp_points, homography)\n",
    "\n",
    "    points = np.concatenate((points1,points2), axis=0)\n",
    "\n",
    "    [minx, miny] = np.int32(points.min(axis=0).ravel() - 0.5)\n",
    "    [maxx, maxy] = np.int32(points.max(axis=0).ravel() + 0.5)\n",
    "  \n",
    "    distance = [-minx,-miny]\n",
    "  \n",
    "    homography_translation = np.array([[1, default, distance[default]], [default, 1, distance[1]], [default, default, 1]])\n",
    "\n",
    "    result = cv2.warpPerspective(right_img, homography_translation.dot(homography), (maxx-minx, maxy-miny))\n",
    "    result[distance[1]:left_row+distance[1], distance[default]:left_col+distance[default]] = left_img\n",
    "\n",
    "    return result"
   ]
  },
  {
   "cell_type": "code",
   "execution_count": 84,
   "metadata": {},
   "outputs": [],
   "source": [
    "matches = 15\n",
    "\n",
    "if len(good_matches) > matches:\n",
    "    \n",
    "    left_kp_matchcontrol=[ kpleft[match.queryIdx].pt for match in good_matches]\n",
    "    right_kp_matchcontrol=[ kpright[match.trainIdx].pt for match in good_matches]\n",
    "    size=-1,1,2\n",
    "    source = np.float32(left_kp_matchcontrol).reshape(size)\n",
    "    destination = np.float32(right_kp_matchcontrol).reshape(size)\n",
    "\n",
    "    \n",
    "    homo, _ = cv2.findHomography(source, destination, cv2.RANSAC,3.0)\n",
    "    \n",
    "    result = matchimages(right_img, left_img, homo)\n",
    "\n",
    "    cv2.imshow(\"result\",result)\n",
    "    cv2.waitKey(0)\n",
    "    cv2.destroyAllWindows()"
   ]
  },
  {
   "cell_type": "code",
   "execution_count": null,
   "metadata": {},
   "outputs": [],
   "source": []
  }
 ],
 "metadata": {
  "kernelspec": {
   "display_name": "Python 3",
   "language": "python",
   "name": "python3"
  },
  "language_info": {
   "codemirror_mode": {
    "name": "ipython",
    "version": 3
   },
   "file_extension": ".py",
   "mimetype": "text/x-python",
   "name": "python",
   "nbconvert_exporter": "python",
   "pygments_lexer": "ipython3",
   "version": "3.8.3"
  }
 },
 "nbformat": 4,
 "nbformat_minor": 4
}
